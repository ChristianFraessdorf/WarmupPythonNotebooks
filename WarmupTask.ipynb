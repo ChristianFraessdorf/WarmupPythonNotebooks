{
 "cells": [
  {
   "cell_type": "markdown",
   "metadata": {},
   "source": [
    "# Warmup task\n",
    "\n",
    "Asset 1,2 with mean returns $r_{1/2}$ and volatilities $\\sigma_{1/2}$. Additionally there is a riskless asset with return $r_0$. What are the considerations when constructing an optimal portfolio out of the three?\n",
    "\n",
    "Markowitz portfolio optimization\n",
    "\n",
    "- optimal portfolio out of analytical considerations (learning goal: markdown and portfolio theory)\n",
    "- simulations (lg: numpy random number generation)\n",
    "- nice plots illustrating both (lg: matplotlib)\n",
    "- how to calculate the optimal potfolio with additional constraints (lg: convex opt)"
   ]
  }
 ],
 "metadata": {
  "kernelspec": {
   "display_name": "Python 3",
   "language": "python",
   "name": "python3"
  },
  "language_info": {
   "codemirror_mode": {
    "name": "ipython",
    "version": 3
   },
   "file_extension": ".py",
   "mimetype": "text/x-python",
   "name": "python",
   "nbconvert_exporter": "python",
   "pygments_lexer": "ipython3",
   "version": "3.7.3"
  }
 },
 "nbformat": 4,
 "nbformat_minor": 2
}
